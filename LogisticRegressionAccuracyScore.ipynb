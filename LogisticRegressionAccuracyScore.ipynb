{
 "cells": [
  {
   "cell_type": "code",
   "execution_count": 1,
   "id": "04a9cafa",
   "metadata": {},
   "outputs": [],
   "source": [
    "import pandas as pd\n",
    "from sklearn.preprocessing import scale\n",
    "from sklearn.model_selection import train_test_split\n",
    "from sklearn.linear_model import LogisticRegression\n",
    "from sklearn.metrics import accuracy_score\n",
    "# Plotting purposes\n",
    "from sklearn import metrics\n",
    "import matplotlib.pyplot as plt"
   ]
  },
  {
   "cell_type": "code",
   "execution_count": 2,
   "id": "5c38845b",
   "metadata": {},
   "outputs": [
    {
     "data": {
      "text/html": [
       "<div>\n",
       "<style scoped>\n",
       "    .dataframe tbody tr th:only-of-type {\n",
       "        vertical-align: middle;\n",
       "    }\n",
       "\n",
       "    .dataframe tbody tr th {\n",
       "        vertical-align: top;\n",
       "    }\n",
       "\n",
       "    .dataframe thead th {\n",
       "        text-align: right;\n",
       "    }\n",
       "</style>\n",
       "<table border=\"1\" class=\"dataframe\">\n",
       "  <thead>\n",
       "    <tr style=\"text-align: right;\">\n",
       "      <th></th>\n",
       "      <th>Age</th>\n",
       "      <th>RestBP</th>\n",
       "      <th>Chol</th>\n",
       "      <th>RestECG</th>\n",
       "      <th>MaxHR</th>\n",
       "      <th>Oldpeak</th>\n",
       "      <th>AHD</th>\n",
       "    </tr>\n",
       "  </thead>\n",
       "  <tbody>\n",
       "    <tr>\n",
       "      <th>0</th>\n",
       "      <td>63</td>\n",
       "      <td>145</td>\n",
       "      <td>233</td>\n",
       "      <td>2</td>\n",
       "      <td>150</td>\n",
       "      <td>2.3</td>\n",
       "      <td>No</td>\n",
       "    </tr>\n",
       "    <tr>\n",
       "      <th>1</th>\n",
       "      <td>67</td>\n",
       "      <td>160</td>\n",
       "      <td>286</td>\n",
       "      <td>2</td>\n",
       "      <td>108</td>\n",
       "      <td>1.5</td>\n",
       "      <td>Yes</td>\n",
       "    </tr>\n",
       "    <tr>\n",
       "      <th>2</th>\n",
       "      <td>67</td>\n",
       "      <td>120</td>\n",
       "      <td>229</td>\n",
       "      <td>2</td>\n",
       "      <td>129</td>\n",
       "      <td>2.6</td>\n",
       "      <td>Yes</td>\n",
       "    </tr>\n",
       "    <tr>\n",
       "      <th>3</th>\n",
       "      <td>37</td>\n",
       "      <td>130</td>\n",
       "      <td>250</td>\n",
       "      <td>0</td>\n",
       "      <td>187</td>\n",
       "      <td>3.5</td>\n",
       "      <td>No</td>\n",
       "    </tr>\n",
       "    <tr>\n",
       "      <th>4</th>\n",
       "      <td>41</td>\n",
       "      <td>130</td>\n",
       "      <td>204</td>\n",
       "      <td>2</td>\n",
       "      <td>172</td>\n",
       "      <td>1.4</td>\n",
       "      <td>No</td>\n",
       "    </tr>\n",
       "    <tr>\n",
       "      <th>...</th>\n",
       "      <td>...</td>\n",
       "      <td>...</td>\n",
       "      <td>...</td>\n",
       "      <td>...</td>\n",
       "      <td>...</td>\n",
       "      <td>...</td>\n",
       "      <td>...</td>\n",
       "    </tr>\n",
       "    <tr>\n",
       "      <th>276</th>\n",
       "      <td>45</td>\n",
       "      <td>110</td>\n",
       "      <td>264</td>\n",
       "      <td>0</td>\n",
       "      <td>132</td>\n",
       "      <td>1.2</td>\n",
       "      <td>Yes</td>\n",
       "    </tr>\n",
       "    <tr>\n",
       "      <th>277</th>\n",
       "      <td>68</td>\n",
       "      <td>144</td>\n",
       "      <td>193</td>\n",
       "      <td>0</td>\n",
       "      <td>141</td>\n",
       "      <td>3.4</td>\n",
       "      <td>Yes</td>\n",
       "    </tr>\n",
       "    <tr>\n",
       "      <th>278</th>\n",
       "      <td>57</td>\n",
       "      <td>130</td>\n",
       "      <td>131</td>\n",
       "      <td>0</td>\n",
       "      <td>115</td>\n",
       "      <td>1.2</td>\n",
       "      <td>Yes</td>\n",
       "    </tr>\n",
       "    <tr>\n",
       "      <th>279</th>\n",
       "      <td>57</td>\n",
       "      <td>130</td>\n",
       "      <td>236</td>\n",
       "      <td>2</td>\n",
       "      <td>174</td>\n",
       "      <td>0.0</td>\n",
       "      <td>Yes</td>\n",
       "    </tr>\n",
       "    <tr>\n",
       "      <th>280</th>\n",
       "      <td>38</td>\n",
       "      <td>138</td>\n",
       "      <td>175</td>\n",
       "      <td>0</td>\n",
       "      <td>173</td>\n",
       "      <td>0.0</td>\n",
       "      <td>No</td>\n",
       "    </tr>\n",
       "  </tbody>\n",
       "</table>\n",
       "<p>281 rows × 7 columns</p>\n",
       "</div>"
      ],
      "text/plain": [
       "     Age  RestBP  Chol  RestECG  MaxHR  Oldpeak  AHD\n",
       "0     63     145   233        2    150      2.3   No\n",
       "1     67     160   286        2    108      1.5  Yes\n",
       "2     67     120   229        2    129      2.6  Yes\n",
       "3     37     130   250        0    187      3.5   No\n",
       "4     41     130   204        2    172      1.4   No\n",
       "..   ...     ...   ...      ...    ...      ...  ...\n",
       "276   45     110   264        0    132      1.2  Yes\n",
       "277   68     144   193        0    141      3.4  Yes\n",
       "278   57     130   131        0    115      1.2  Yes\n",
       "279   57     130   236        2    174      0.0  Yes\n",
       "280   38     138   175        0    173      0.0   No\n",
       "\n",
       "[281 rows x 7 columns]"
      ]
     },
     "execution_count": 2,
     "metadata": {},
     "output_type": "execute_result"
    }
   ],
   "source": [
    "# A. In this question, we work with a simplified version of Heart dataset. \n",
    "# Read the dataset file “Heart_short.csv” from github, and assign it to a Pandas DataFrame:\n",
    "df  = pd.read_csv(\"https://github.com/mpourhoma/CS4661/raw/master/Heart_short.csv\")\n",
    "df"
   ]
  },
  {
   "cell_type": "code",
   "execution_count": 4,
   "id": "6428d909",
   "metadata": {
    "scrolled": true
   },
   "outputs": [],
   "source": [
    "# B. Generate the feature matrix and label vector (AHD). Then, normalize (scale) the features.\n",
    "feature_matrix = ['Age', 'RestBP', 'Chol', 'RestECG', 'MaxHR', 'Oldpeak']\n",
    "X = df[feature_matrix]\n",
    "y = df['AHD']\n",
    "X = scale(X)"
   ]
  },
  {
   "cell_type": "code",
   "execution_count": 5,
   "id": "b79de1ba",
   "metadata": {},
   "outputs": [],
   "source": [
    "# C. Split the dataset into testing and training sets with the following parameters: test_size=0.25, random_state=3.\n",
    "X_train, X_test, y_train, y_test = train_test_split(X, y, test_size=0.25, random_state=3)"
   ]
  },
  {
   "cell_type": "code",
   "execution_count": 6,
   "id": "1a1574bb",
   "metadata": {},
   "outputs": [
    {
     "name": "stdout",
     "output_type": "stream",
     "text": [
      "Logistic Regression Classifier accuracy: 0.7183098591549296\n"
     ]
    }
   ],
   "source": [
    "# D. Use Logistic Regression Classifier to predict Heart Disease occurrence based on the training/testing datasets \n",
    "# that you built in part(c). Then, compute and report the Accuracy.\n",
    "# LogisticRegression\n",
    "logreg = LogisticRegression()\n",
    "logreg.fit(X_train, y_train)\n",
    "y_predict = logreg.predict(X_test)\n",
    "accuracy = accuracy_score(y_test, y_predict)\n",
    "print('Logistic Regression Classifier accuracy:', accuracy)"
   ]
  },
  {
   "cell_type": "code",
   "execution_count": 7,
   "id": "f3c9b985",
   "metadata": {},
   "outputs": [
    {
     "name": "stdout",
     "output_type": "stream",
     "text": [
      "[[0.49847189 0.50152811]\n",
      " [0.55153223 0.44846777]\n",
      " [0.39514152 0.60485848]\n",
      " [0.39636475 0.60363525]\n",
      " [0.8463285  0.1536715 ]\n",
      " [0.77042084 0.22957916]\n",
      " [0.73485372 0.26514628]\n",
      " [0.86548609 0.13451391]\n",
      " [0.35529864 0.64470136]\n",
      " [0.6707959  0.3292041 ]\n",
      " [0.09558374 0.90441626]\n",
      " [0.91924811 0.08075189]\n",
      " [0.29096442 0.70903558]\n",
      " [0.43043601 0.56956399]\n",
      " [0.66808153 0.33191847]\n",
      " [0.85924791 0.14075209]\n",
      " [0.11598482 0.88401518]\n",
      " [0.68324451 0.31675549]\n",
      " [0.11239963 0.88760037]\n",
      " [0.33485811 0.66514189]\n",
      " [0.85412798 0.14587202]\n",
      " [0.86376748 0.13623252]\n",
      " [0.22496489 0.77503511]\n",
      " [0.92910529 0.07089471]\n",
      " [0.10918691 0.89081309]\n",
      " [0.57443365 0.42556635]\n",
      " [0.72926897 0.27073103]\n",
      " [0.43211917 0.56788083]\n",
      " [0.67752917 0.32247083]\n",
      " [0.77600088 0.22399912]\n",
      " [0.30112704 0.69887296]\n",
      " [0.10864797 0.89135203]\n",
      " [0.17558051 0.82441949]\n",
      " [0.89158205 0.10841795]\n",
      " [0.81006702 0.18993298]\n",
      " [0.01129614 0.98870386]\n",
      " [0.06726456 0.93273544]\n",
      " [0.73258706 0.26741294]\n",
      " [0.20480859 0.79519141]\n",
      " [0.51449134 0.48550866]\n",
      " [0.717008   0.282992  ]\n",
      " [0.30586875 0.69413125]\n",
      " [0.66332514 0.33667486]\n",
      " [0.82077467 0.17922533]\n",
      " [0.03389153 0.96610847]\n",
      " [0.33728943 0.66271057]\n",
      " [0.87471223 0.12528777]\n",
      " [0.85656489 0.14343511]\n",
      " [0.36827265 0.63172735]\n",
      " [0.59762218 0.40237782]\n",
      " [0.62964398 0.37035602]\n",
      " [0.19469254 0.80530746]\n",
      " [0.96086695 0.03913305]\n",
      " [0.23063202 0.76936798]\n",
      " [0.88832735 0.11167265]\n",
      " [0.80533346 0.19466654]\n",
      " [0.88755409 0.11244591]\n",
      " [0.6431908  0.3568092 ]\n",
      " [0.83719082 0.16280918]\n",
      " [0.77051304 0.22948696]\n",
      " [0.27750557 0.72249443]\n",
      " [0.82840511 0.17159489]\n",
      " [0.76703016 0.23296984]\n",
      " [0.66246843 0.33753157]\n",
      " [0.75594836 0.24405164]\n",
      " [0.87543785 0.12456215]\n",
      " [0.69515727 0.30484273]\n",
      " [0.92701804 0.07298196]\n",
      " [0.90591669 0.09408331]\n",
      " [0.77008821 0.22991179]\n",
      " [0.91698898 0.08301102]]\n",
      "[0.50152811 0.44846777 0.60485848 0.60363525 0.1536715  0.22957916\n",
      " 0.26514628 0.13451391 0.64470136 0.3292041  0.90441626 0.08075189\n",
      " 0.70903558 0.56956399 0.33191847 0.14075209 0.88401518 0.31675549\n",
      " 0.88760037 0.66514189 0.14587202 0.13623252 0.77503511 0.07089471\n",
      " 0.89081309 0.42556635 0.27073103 0.56788083 0.32247083 0.22399912\n",
      " 0.69887296 0.89135203 0.82441949 0.10841795 0.18993298 0.98870386\n",
      " 0.93273544 0.26741294 0.79519141 0.48550866 0.282992   0.69413125\n",
      " 0.33667486 0.17922533 0.96610847 0.66271057 0.12528777 0.14343511\n",
      " 0.63172735 0.40237782 0.37035602 0.80530746 0.03913305 0.76936798\n",
      " 0.11167265 0.19466654 0.11244591 0.3568092  0.16280918 0.22948696\n",
      " 0.72249443 0.17159489 0.23296984 0.33753157 0.24405164 0.12456215\n",
      " 0.30484273 0.07298196 0.09408331 0.22991179 0.08301102]\n"
     ]
    }
   ],
   "source": [
    "# Now, Use Logistic Regression Classifier to predict the probability of Heart Disease based on the training/testing \n",
    "# datasets that you built in part (c) (you have to use “my_logreg.predict_proba” method rather than \n",
    "# “my_logreg.predict”).\n",
    "y_predict_prob_lr = logreg.predict_proba(X_test)\n",
    "print(y_predict_prob_lr)\n",
    "print(y_predict_prob_lr[:,1])"
   ]
  },
  {
   "cell_type": "code",
   "execution_count": 12,
   "id": "cc0ee7b6",
   "metadata": {},
   "outputs": [
    {
     "name": "stdout",
     "output_type": "stream",
     "text": [
      "The AUC is: 0.7650406504065042\n"
     ]
    }
   ],
   "source": [
    "# Then, Plot the Roc Curve for this classifier, and also Compute the AUC (Area Under Curve for ROC).\n",
    "# Sklearn label encoder doc\n",
    "fpr, tpr, thresholds = metrics.roc_curve(y_test, y_predict_prob_lr[:,1], pos_label='Yes')\n",
    "AUC = metrics.auc(fpr, tpr)\n",
    "print('The AUC is:', AUC)"
   ]
  },
  {
   "cell_type": "code",
   "execution_count": 14,
   "id": "2d7aa1f1",
   "metadata": {},
   "outputs": [
    {
     "data": {
      "image/png": "[encoded data removed]",
      "text/plain": [
       "<Figure size 432x288 with 1 Axes>"
      ]
     },
     "metadata": {
      "needs_background": "light"
     },
     "output_type": "display_data"
    }
   ],
   "source": [
    "# The following line will tell Jupyter Notebook to keep the figures inside the explorer page \n",
    "# rather than openng a new figure window:\n",
    "%matplotlib inline\n",
    "\n",
    "plt.figure()\n",
    "\n",
    "# Roc Curve:\n",
    "plt.plot(fpr, tpr, color='red', lw=2, \n",
    "         label='ROC Curve (area = %0.2f)' % AUC)\n",
    "\n",
    "# Defining The Range of X-Axis and Y-Axis:\n",
    "plt.xlim([-0.005, 1.005])\n",
    "plt.ylim([0.0, 1.01])\n",
    "\n",
    "# Labels, Title, Legend:\n",
    "plt.title('Heart Disease Probability Prediction')\n",
    "plt.legend(loc=\"lower right\")\n",
    "\n",
    "plt.show()"
   ]
  },
  {
   "cell_type": "code",
   "execution_count": null,
   "id": "a28a795a",
   "metadata": {},
   "outputs": [],
   "source": []
  }
 ],
 "metadata": {
  "kernelspec": {
   "display_name": "Python 3 (ipykernel)",
   "language": "python",
   "name": "python3"
  },
  "language_info": {
   "codemirror_mode": {
    "name": "ipython",
    "version": 3
   },
   "file_extension": ".py",
   "mimetype": "text/x-python",
   "name": "python",
   "nbconvert_exporter": "python",
   "pygments_lexer": "ipython3",
   "version": "3.9.12"
  },
  "vscode": {
   "interpreter": {
    "hash": "aee8b7b246df8f9039afb4144a1f6fd8d2ca17a180786b69acc140d282b71a49"
   }
  }
 },
 "nbformat": 4,
 "nbformat_minor": 5
}
