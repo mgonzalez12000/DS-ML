{
 "cells": [
  {
   "cell_type": "code",
   "execution_count": 20,
   "id": "54c9f717",
   "metadata": {},
   "outputs": [],
   "source": [
    "import pandas as pd\n",
    "import numpy as np\n",
    "from sklearn.preprocessing import scale\n",
    "from sklearn.model_selection import train_test_split\n",
    "from sklearn.linear_model import LinearRegression\n",
    "from sklearn.model_selection import cross_val_score\n",
    "from sklearn import metrics"
   ]
  },
  {
   "cell_type": "code",
   "execution_count": 21,
   "id": "a8b22262",
   "metadata": {},
   "outputs": [],
   "source": [
    "# A) Read the dataset file \"Credit.csv\" (from github using the following command) # and assign it to a Pandas\n",
    "# DataFrame\n",
    "df = pd.read_csv('https://github.com/mpourhoma/CS4661/raw/master/Credit.csv')"
   ]
  },
  {
   "cell_type": "code",
   "execution_count": 22,
   "id": "575fbdbf",
   "metadata": {},
   "outputs": [
    {
     "data": {
      "text/html": [
       "<div>\n",
       "<style scoped>\n",
       "    .dataframe tbody tr th:only-of-type {\n",
       "        vertical-align: middle;\n",
       "    }\n",
       "\n",
       "    .dataframe tbody tr th {\n",
       "        vertical-align: top;\n",
       "    }\n",
       "\n",
       "    .dataframe thead th {\n",
       "        text-align: right;\n",
       "    }\n",
       "</style>\n",
       "<table border=\"1\" class=\"dataframe\">\n",
       "  <thead>\n",
       "    <tr style=\"text-align: right;\">\n",
       "      <th></th>\n",
       "      <th>Income</th>\n",
       "      <th>Limit</th>\n",
       "      <th>Rating</th>\n",
       "      <th>Cards</th>\n",
       "      <th>Age</th>\n",
       "      <th>Education</th>\n",
       "      <th>Married</th>\n",
       "      <th>Balance</th>\n",
       "    </tr>\n",
       "  </thead>\n",
       "  <tbody>\n",
       "    <tr>\n",
       "      <th>0</th>\n",
       "      <td>14.891</td>\n",
       "      <td>3606</td>\n",
       "      <td>283</td>\n",
       "      <td>2</td>\n",
       "      <td>34</td>\n",
       "      <td>11</td>\n",
       "      <td>1</td>\n",
       "      <td>333</td>\n",
       "    </tr>\n",
       "    <tr>\n",
       "      <th>1</th>\n",
       "      <td>106.025</td>\n",
       "      <td>6645</td>\n",
       "      <td>483</td>\n",
       "      <td>3</td>\n",
       "      <td>82</td>\n",
       "      <td>15</td>\n",
       "      <td>1</td>\n",
       "      <td>903</td>\n",
       "    </tr>\n",
       "    <tr>\n",
       "      <th>2</th>\n",
       "      <td>104.593</td>\n",
       "      <td>7075</td>\n",
       "      <td>514</td>\n",
       "      <td>4</td>\n",
       "      <td>71</td>\n",
       "      <td>11</td>\n",
       "      <td>0</td>\n",
       "      <td>580</td>\n",
       "    </tr>\n",
       "    <tr>\n",
       "      <th>3</th>\n",
       "      <td>148.924</td>\n",
       "      <td>9504</td>\n",
       "      <td>681</td>\n",
       "      <td>3</td>\n",
       "      <td>36</td>\n",
       "      <td>11</td>\n",
       "      <td>0</td>\n",
       "      <td>964</td>\n",
       "    </tr>\n",
       "    <tr>\n",
       "      <th>4</th>\n",
       "      <td>55.882</td>\n",
       "      <td>4897</td>\n",
       "      <td>357</td>\n",
       "      <td>2</td>\n",
       "      <td>68</td>\n",
       "      <td>16</td>\n",
       "      <td>1</td>\n",
       "      <td>331</td>\n",
       "    </tr>\n",
       "    <tr>\n",
       "      <th>...</th>\n",
       "      <td>...</td>\n",
       "      <td>...</td>\n",
       "      <td>...</td>\n",
       "      <td>...</td>\n",
       "      <td>...</td>\n",
       "      <td>...</td>\n",
       "      <td>...</td>\n",
       "      <td>...</td>\n",
       "    </tr>\n",
       "    <tr>\n",
       "      <th>395</th>\n",
       "      <td>12.096</td>\n",
       "      <td>4100</td>\n",
       "      <td>307</td>\n",
       "      <td>3</td>\n",
       "      <td>32</td>\n",
       "      <td>13</td>\n",
       "      <td>1</td>\n",
       "      <td>560</td>\n",
       "    </tr>\n",
       "    <tr>\n",
       "      <th>396</th>\n",
       "      <td>13.364</td>\n",
       "      <td>3838</td>\n",
       "      <td>296</td>\n",
       "      <td>5</td>\n",
       "      <td>65</td>\n",
       "      <td>17</td>\n",
       "      <td>0</td>\n",
       "      <td>480</td>\n",
       "    </tr>\n",
       "    <tr>\n",
       "      <th>397</th>\n",
       "      <td>57.872</td>\n",
       "      <td>4171</td>\n",
       "      <td>321</td>\n",
       "      <td>5</td>\n",
       "      <td>67</td>\n",
       "      <td>12</td>\n",
       "      <td>1</td>\n",
       "      <td>138</td>\n",
       "    </tr>\n",
       "    <tr>\n",
       "      <th>398</th>\n",
       "      <td>37.728</td>\n",
       "      <td>2525</td>\n",
       "      <td>192</td>\n",
       "      <td>1</td>\n",
       "      <td>44</td>\n",
       "      <td>13</td>\n",
       "      <td>1</td>\n",
       "      <td>0</td>\n",
       "    </tr>\n",
       "    <tr>\n",
       "      <th>399</th>\n",
       "      <td>18.701</td>\n",
       "      <td>5524</td>\n",
       "      <td>415</td>\n",
       "      <td>5</td>\n",
       "      <td>64</td>\n",
       "      <td>7</td>\n",
       "      <td>0</td>\n",
       "      <td>966</td>\n",
       "    </tr>\n",
       "  </tbody>\n",
       "</table>\n",
       "<p>400 rows × 8 columns</p>\n",
       "</div>"
      ],
      "text/plain": [
       "      Income  Limit  Rating  Cards  Age  Education  Married  Balance\n",
       "0     14.891   3606     283      2   34         11        1      333\n",
       "1    106.025   6645     483      3   82         15        1      903\n",
       "2    104.593   7075     514      4   71         11        0      580\n",
       "3    148.924   9504     681      3   36         11        0      964\n",
       "4     55.882   4897     357      2   68         16        1      331\n",
       "..       ...    ...     ...    ...  ...        ...      ...      ...\n",
       "395   12.096   4100     307      3   32         13        1      560\n",
       "396   13.364   3838     296      5   65         17        0      480\n",
       "397   57.872   4171     321      5   67         12        1      138\n",
       "398   37.728   2525     192      1   44         13        1        0\n",
       "399   18.701   5524     415      5   64          7        0      966\n",
       "\n",
       "[400 rows x 8 columns]"
      ]
     },
     "execution_count": 22,
     "metadata": {},
     "output_type": "execute_result"
    }
   ],
   "source": [
    "# B) Check out the dataset. The \"Credit\" dataset includes the \"balance\" coloumn (average credit card debt for a\n",
    "# numver of individuals) as target, as well as several features: age, cards(numver of credit cards), education\n",
    "# (years of education), income (in thousands of dollars), limit (credit limit), marital statues, and rating (credit rating).\n",
    "df"
   ]
  },
  {
   "cell_type": "code",
   "execution_count": 34,
   "id": "1d13efdc",
   "metadata": {},
   "outputs": [],
   "source": [
    "# C) Generate the feature matrix and target vector (target is 'balance' in this dataset). Then normalize (scale)\n",
    "# the features (note: don't normalize the target vector!). To normalize the data, you can simply use scale(X)\n",
    "# from sklearn\n",
    "feature_matrix = ['Income', 'Limit', 'Rating', 'Cards', 'Age', 'Education', 'Married']\n",
    "X = df[feature_matrix]\n",
    "y = df['Balance']\n",
    "X = scale(X)"
   ]
  },
  {
   "cell_type": "code",
   "execution_count": 35,
   "id": "b3264d29",
   "metadata": {},
   "outputs": [],
   "source": [
    "# D) Split the dataset into testing and training sets with the following paramters: test_size=0.24, random_state=9\n",
    "X_train, X_test, y_train, y_test = train_test_split(X, y, test_size=0.24, random_state=9)"
   ]
  },
  {
   "cell_type": "code",
   "execution_count": 39,
   "id": "96b6fff2",
   "metadata": {},
   "outputs": [
    {
     "name": "stdout",
     "output_type": "stream",
     "text": [
      "[-264.69553256  360.5601294   252.73642988   24.91707959  -17.23897686\n",
      "   11.65810466   -9.82859046]\n",
      "Limit feature is the most important\n",
      "Income feature is the least important.\n"
     ]
    }
   ],
   "source": [
    "# E) Use Linear Regression to train a linear model on the training set. Check the coefficients of the Linear\n",
    "# Regression model. Which feature is the most important? Which feature is the least important?\n",
    "linear_regression = LinearRegression()\n",
    "linear_regression.fit(X_train, y_train)\n",
    "print(linear_regression.coef_)\n",
    "print('Limit feature is the most important')\n",
    "print('Income feature is the least important.')"
   ]
  },
  {
   "cell_type": "code",
   "execution_count": 37,
   "id": "9276910d",
   "metadata": {},
   "outputs": [
    {
     "name": "stdout",
     "output_type": "stream",
     "text": [
      "143.24649739642265\n"
     ]
    }
   ],
   "source": [
    "# F) Predict \"balance\" for the users in testing set. Then, compare the predicted balance with the actual balnce by\n",
    "# calculating and reporting the RMSE (as we saw in lab tutorial 4).\n",
    "y_prediction = linear_regression.predict(X_test)\n",
    "mse = metrics.mean_squared_error(y_test, y_prediction)\n",
    "rmse = np.sqrt(mse)\n",
    "print(rmse)"
   ]
  },
  {
   "cell_type": "code",
   "execution_count": 38,
   "id": "ef26ac21",
   "metadata": {},
   "outputs": [
    {
     "name": "stdout",
     "output_type": "stream",
     "text": [
      "160.33198910744133\n"
     ]
    }
   ],
   "source": [
    "# G) Now use 10-fold Cross-Validation to evaluate the performance of a linear regression in predicting the balance\n",
    "# Thus, rather than splitting the dataset into testing and training, use Cross-Validation to evaluate the regression\n",
    "# performance. What is the RMSE when you use cross validation?\n",
    "mse_list = cross_val_score(linear_regression, X, y, cv = 10, scoring='neg_mean_squared_error')\n",
    "mse_list_positive = -mse_list\n",
    "rmse_list = np.sqrt(mse_list_positive)\n",
    "print(rmse_list.mean())"
   ]
  },
  {
   "cell_type": "code",
   "execution_count": null,
   "id": "9255f485",
   "metadata": {},
   "outputs": [],
   "source": []
  }
 ],
 "metadata": {
  "kernelspec": {
   "display_name": "Python 3 (ipykernel)",
   "language": "python",
   "name": "python3"
  },
  "language_info": {
   "codemirror_mode": {
    "name": "ipython",
    "version": 3
   },
   "file_extension": ".py",
   "mimetype": "text/x-python",
   "name": "python",
   "nbconvert_exporter": "python",
   "pygments_lexer": "ipython3",
   "version": "3.9.12"
  }
 },
 "nbformat": 4,
 "nbformat_minor": 5
}
